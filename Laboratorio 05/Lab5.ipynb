{
  "cells": [
    {
      "metadata": {},
      "cell_type": "markdown",
      "source": "<h1>##### Módulo 5 : Gráficos com Matplotlib #####</h1>\n\n# Referencia:  https://matplotlib.org/examples/index.html"
    },
    {
      "metadata": {
        "trusted": true
      },
      "cell_type": "code",
      "source": "##### Grafico de Pontos (Scatter Plot) #####\nimport matplotlib.pyplot as plt\nano = [2011, 2012, 2013, 2014, 2015, 2016, 2017, 2018]\npop = [3.519, 3.953, 4.726, 5.211, 5.998, 6.650, 7.376, 8.199]\nplt.scatter (ano, pop)\nplt.show ( ) ",
      "execution_count": null,
      "outputs": []
    },
    {
      "metadata": {
        "trusted": true
      },
      "cell_type": "code",
      "source": "##### Linha #####\nimport matplotlib.pyplot as plt\nano = [2011, 2012, 2013, 2014, 2015, 2016, 2017, 2018]\npop = [3.519, 3.953, 4.726, 5.211, 5.998, 6.650, 7.376, 8.199]\nplt.plot (ano, pop)\nplt.show ( ) ",
      "execution_count": null,
      "outputs": []
    },
    {
      "metadata": {
        "trusted": true
      },
      "cell_type": "code",
      "source": "##### Linha com Titulos #####\nplt.xlabel('Ano')\nplt.ylabel('Populacao')\nplt.title('Crescimento Populacional')\nplt.yticks(3000,5000,7000,9000,(\"3k\",\"5k\",\"7k\",\"9k\"))\nplt.plot (ano, pop)\nplt.show ( ) ",
      "execution_count": null,
      "outputs": []
    },
    {
      "metadata": {
        "trusted": true
      },
      "cell_type": "code",
      "source": "##### Linha com Preenchimento ##### \nplt.fill_between(ano,pop,0,color=\"green\")\nplt.plot (ano, pop)\nplt.show ( ) ",
      "execution_count": null,
      "outputs": []
    },
    {
      "metadata": {
        "trusted": true
      },
      "cell_type": "code",
      "source": "##### Histograma #####\nlista = [ 0, 1, 1, 2, 2, 2, 5, 5, 9, 11, 11, 17, 19, 21, 21]\nplt.hist (lista, bins=4)\nplt.show ( )",
      "execution_count": null,
      "outputs": []
    }
  ],
  "metadata": {
    "kernelspec": {
      "name": "python36",
      "display_name": "Python 3.6",
      "language": "python"
    },
    "language_info": {
      "mimetype": "text/x-python",
      "nbconvert_exporter": "python",
      "name": "python",
      "pygments_lexer": "ipython3",
      "version": "3.6.6",
      "file_extension": ".py",
      "codemirror_mode": {
        "version": 3,
        "name": "ipython"
      }
    }
  },
  "nbformat": 4,
  "nbformat_minor": 2
}