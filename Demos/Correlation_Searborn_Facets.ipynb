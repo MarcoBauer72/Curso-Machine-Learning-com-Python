credit = pd.read_csv('German_Credit_Preped.csv')
print(credit.shape)
credit.head()
