{
  "cells": [
    {
      "metadata": {},
      "cell_type": "markdown",
      "source": "# Data Preparation for Machine Learning\n\n**Data preparation** is a vital step in the machine learning pipeline. Just as visualization is necessary to understand the relationships in data, proper preparation or **data munging** is required to ensure machine learning models work optimally. \n\nThe process of data preparation is highly interactive and iterative. A typical process includes at least the following steps:\n1. **Visualization** of the dataset to understand the relationships and identify possible problems with the data.\n2. **Data cleaning and transformation** to address the problems identified. It many cases, step 1 is then repeated to verify that the cleaning and transformation had the desired effect. \n3. **Construction and evaluation of a machine learning models**. Visualization of the results will often lead to understanding of further data preparation that is required; going back to step 1. \n\nIn this lab you will learn the following: \n- Recode character strings to eliminate characters that will not be processed correctly.\n- Find and treat missing values. \n- Set correct data type of each column. \n- Transform categorical features to create categories with more cases and coding likely to be useful in predicting the label. \n- Apply transformations to numeric features and the label to improve the distribution properties. \n- Locate and treat duplicate cases. \n"
    },
    {
      "metadata": {},
      "cell_type": "markdown",
      "source": "## An example\n\nAs a first example you will prepare the automotive dataset. Careful preparation of this dataset, or any dataset, is required before attempting to train any machine learning model. This dataset has a number of problems which must be addressed. Further, some feature engineering will be applied. \n\n### Load the dataset\n\nAs a first step you must load the dataset. \n\nExecute the code in the cell below to load the packages required  to run this notebook. \n\n> **Note:** If you are running in Azure Notebooks, make sure that you run the code in the `setup.ipynb` notebook at the start of you session to ensure your environment is correctly configured. "
    },
    {
      "metadata": {
        "trusted": false
      },
      "cell_type": "code",
      "source": "## Import packages\nlibrary(ggplot2)\nlibrary(repr)\nlibrary(dplyr)\n\noptions(repr.plot.width=4, repr.plot.height=4) # Set the initial plot area dimensions",
      "execution_count": null,
      "outputs": []
    },
    {
      "metadata": {},
      "cell_type": "markdown",
      "source": "Execute the code in the cell below to load the dataset and print the first few rows of the data frame."
    },
    {
      "metadata": {
        "trusted": true
      },
      "cell_type": "code",
      "source": "auto_prices = read.csv('Automobile price data _Raw_.csv', stringsAsFactors = FALSE, header = TRUE)\nhead(auto_prices,20)",
      "execution_count": 1,
      "outputs": [
        {
          "output_type": "display_data",
          "data": {
            "text/plain": "   symboling normalized.losses make        fuel.type aspiration num.of.doors\n1  3         ?                 alfa-romero gas       std        two         \n2  3         ?                 alfa-romero gas       std        two         \n3  1         ?                 alfa-romero gas       std        two         \n4  2         164               audi        gas       std        four        \n5  2         164               audi        gas       std        four        \n6  2         ?                 audi        gas       std        two         \n7  1         158               audi        gas       std        four        \n8  1         ?                 audi        gas       std        four        \n9  1         158               audi        gas       turbo      four        \n10 0         ?                 audi        gas       turbo      two         \n11 2         192               bmw         gas       std        two         \n12 0         192               bmw         gas       std        four        \n13 0         188               bmw         gas       std        two         \n14 0         188               bmw         gas       std        four        \n15 1         ?                 bmw         gas       std        four        \n16 0         ?                 bmw         gas       std        four        \n17 0         ?                 bmw         gas       std        two         \n18 0         ?                 bmw         gas       std        four        \n19 2         121               chevrolet   gas       std        two         \n20 1         98                chevrolet   gas       std        two         \n   body.style  drive.wheels engine.location wheel.base ... engine.size\n1  convertible rwd          front            88.6      ... 130        \n2  convertible rwd          front            88.6      ... 130        \n3  hatchback   rwd          front            94.5      ... 152        \n4  sedan       fwd          front            99.8      ... 109        \n5  sedan       4wd          front            99.4      ... 136        \n6  sedan       fwd          front            99.8      ... 136        \n7  sedan       fwd          front           105.8      ... 136        \n8  wagon       fwd          front           105.8      ... 136        \n9  sedan       fwd          front           105.8      ... 131        \n10 hatchback   4wd          front            99.5      ... 131        \n11 sedan       rwd          front           101.2      ... 108        \n12 sedan       rwd          front           101.2      ... 108        \n13 sedan       rwd          front           101.2      ... 164        \n14 sedan       rwd          front           101.2      ... 164        \n15 sedan       rwd          front           103.5      ... 164        \n16 sedan       rwd          front           103.5      ... 209        \n17 sedan       rwd          front           103.5      ... 209        \n18 sedan       rwd          front           110.0      ... 209        \n19 hatchback   fwd          front            88.4      ...  61        \n20 hatchback   fwd          front            94.5      ...  90        \n   fuel.system bore stroke compression.ratio horsepower peak.rpm city.mpg\n1  mpfi        3.47 2.68    9.0              111        5000     21      \n2  mpfi        3.47 2.68    9.0              111        5000     21      \n3  mpfi        2.68 3.47    9.0              154        5000     19      \n4  mpfi        3.19 3.40   10.0              102        5500     24      \n5  mpfi        3.19 3.40    8.0              115        5500     18      \n6  mpfi        3.19 3.40    8.5              110        5500     19      \n7  mpfi        3.19 3.40    8.5              110        5500     19      \n8  mpfi        3.19 3.40    8.5              110        5500     19      \n9  mpfi        3.13 3.40    8.3              140        5500     17      \n10 mpfi        3.13 3.40    7.0              160        5500     16      \n11 mpfi        3.50 2.80    8.8              101        5800     23      \n12 mpfi        3.50 2.80    8.8              101        5800     23      \n13 mpfi        3.31 3.19    9.0              121        4250     21      \n14 mpfi        3.31 3.19    9.0              121        4250     21      \n15 mpfi        3.31 3.19    9.0              121        4250     20      \n16 mpfi        3.62 3.39    8.0              182        5400     16      \n17 mpfi        3.62 3.39    8.0              182        5400     16      \n18 mpfi        3.62 3.39    8.0              182        5400     15      \n19 2bbl        2.91 3.03    9.5              48         5100     47      \n20 2bbl        3.03 3.11    9.6              70         5400     38      \n   highway.mpg price\n1  27          13495\n2  27          16500\n3  26          16500\n4  30          13950\n5  22          17450\n6  25          15250\n7  25          17710\n8  25          18920\n9  20          23875\n10 22          ?    \n11 29          16430\n12 29          16925\n13 28          20970\n14 28          21105\n15 25          24565\n16 22          30760\n17 22          41315\n18 20          36880\n19 53          5151 \n20 43          6295 ",
            "text/latex": "A data.frame: 20 x 26\n\\begin{tabular}{r|llllllllllllllllllllllllll}\n symboling & normalized.losses & make & fuel.type & aspiration & num.of.doors & body.style & drive.wheels & engine.location & wheel.base & length & width & height & curb.weight & engine.type & num.of.cylinders & engine.size & fuel.system & bore & stroke & compression.ratio & horsepower & peak.rpm & city.mpg & highway.mpg & price\\\\\n <int> & <chr> & <chr> & <chr> & <chr> & <chr> & <chr> & <chr> & <chr> & <dbl> & <dbl> & <dbl> & <dbl> & <int> & <chr> & <chr> & <int> & <chr> & <chr> & <chr> & <dbl> & <chr> & <chr> & <int> & <int> & <chr>\\\\\n\\hline\n\t 3 & ?   & alfa-romero & gas & std   & two  & convertible & rwd & front &  88.6 & 168.8 & 64.1 & 48.8 & 2548 & dohc & four  & 130 & mpfi & 3.47 & 2.68 &  9.0 & 111 & 5000 & 21 & 27 & 13495\\\\\n\t 3 & ?   & alfa-romero & gas & std   & two  & convertible & rwd & front &  88.6 & 168.8 & 64.1 & 48.8 & 2548 & dohc & four  & 130 & mpfi & 3.47 & 2.68 &  9.0 & 111 & 5000 & 21 & 27 & 16500\\\\\n\t 1 & ?   & alfa-romero & gas & std   & two  & hatchback   & rwd & front &  94.5 & 171.2 & 65.5 & 52.4 & 2823 & ohcv & six   & 152 & mpfi & 2.68 & 3.47 &  9.0 & 154 & 5000 & 19 & 26 & 16500\\\\\n\t 2 & 164 & audi        & gas & std   & four & sedan       & fwd & front &  99.8 & 176.6 & 66.2 & 54.3 & 2337 & ohc  & four  & 109 & mpfi & 3.19 & 3.40 & 10.0 & 102 & 5500 & 24 & 30 & 13950\\\\\n\t 2 & 164 & audi        & gas & std   & four & sedan       & 4wd & front &  99.4 & 176.6 & 66.4 & 54.3 & 2824 & ohc  & five  & 136 & mpfi & 3.19 & 3.40 &  8.0 & 115 & 5500 & 18 & 22 & 17450\\\\\n\t 2 & ?   & audi        & gas & std   & two  & sedan       & fwd & front &  99.8 & 177.3 & 66.3 & 53.1 & 2507 & ohc  & five  & 136 & mpfi & 3.19 & 3.40 &  8.5 & 110 & 5500 & 19 & 25 & 15250\\\\\n\t 1 & 158 & audi        & gas & std   & four & sedan       & fwd & front & 105.8 & 192.7 & 71.4 & 55.7 & 2844 & ohc  & five  & 136 & mpfi & 3.19 & 3.40 &  8.5 & 110 & 5500 & 19 & 25 & 17710\\\\\n\t 1 & ?   & audi        & gas & std   & four & wagon       & fwd & front & 105.8 & 192.7 & 71.4 & 55.7 & 2954 & ohc  & five  & 136 & mpfi & 3.19 & 3.40 &  8.5 & 110 & 5500 & 19 & 25 & 18920\\\\\n\t 1 & 158 & audi        & gas & turbo & four & sedan       & fwd & front & 105.8 & 192.7 & 71.4 & 55.9 & 3086 & ohc  & five  & 131 & mpfi & 3.13 & 3.40 &  8.3 & 140 & 5500 & 17 & 20 & 23875\\\\\n\t 0 & ?   & audi        & gas & turbo & two  & hatchback   & 4wd & front &  99.5 & 178.2 & 67.9 & 52.0 & 3053 & ohc  & five  & 131 & mpfi & 3.13 & 3.40 &  7.0 & 160 & 5500 & 16 & 22 & ?    \\\\\n\t 2 & 192 & bmw         & gas & std   & two  & sedan       & rwd & front & 101.2 & 176.8 & 64.8 & 54.3 & 2395 & ohc  & four  & 108 & mpfi & 3.50 & 2.80 &  8.8 & 101 & 5800 & 23 & 29 & 16430\\\\\n\t 0 & 192 & bmw         & gas & std   & four & sedan       & rwd & front & 101.2 & 176.8 & 64.8 & 54.3 & 2395 & ohc  & four  & 108 & mpfi & 3.50 & 2.80 &  8.8 & 101 & 5800 & 23 & 29 & 16925\\\\\n\t 0 & 188 & bmw         & gas & std   & two  & sedan       & rwd & front & 101.2 & 176.8 & 64.8 & 54.3 & 2710 & ohc  & six   & 164 & mpfi & 3.31 & 3.19 &  9.0 & 121 & 4250 & 21 & 28 & 20970\\\\\n\t 0 & 188 & bmw         & gas & std   & four & sedan       & rwd & front & 101.2 & 176.8 & 64.8 & 54.3 & 2765 & ohc  & six   & 164 & mpfi & 3.31 & 3.19 &  9.0 & 121 & 4250 & 21 & 28 & 21105\\\\\n\t 1 & ?   & bmw         & gas & std   & four & sedan       & rwd & front & 103.5 & 189.0 & 66.9 & 55.7 & 3055 & ohc  & six   & 164 & mpfi & 3.31 & 3.19 &  9.0 & 121 & 4250 & 20 & 25 & 24565\\\\\n\t 0 & ?   & bmw         & gas & std   & four & sedan       & rwd & front & 103.5 & 189.0 & 66.9 & 55.7 & 3230 & ohc  & six   & 209 & mpfi & 3.62 & 3.39 &  8.0 & 182 & 5400 & 16 & 22 & 30760\\\\\n\t 0 & ?   & bmw         & gas & std   & two  & sedan       & rwd & front & 103.5 & 193.8 & 67.9 & 53.7 & 3380 & ohc  & six   & 209 & mpfi & 3.62 & 3.39 &  8.0 & 182 & 5400 & 16 & 22 & 41315\\\\\n\t 0 & ?   & bmw         & gas & std   & four & sedan       & rwd & front & 110.0 & 197.0 & 70.9 & 56.3 & 3505 & ohc  & six   & 209 & mpfi & 3.62 & 3.39 &  8.0 & 182 & 5400 & 15 & 20 & 36880\\\\\n\t 2 & 121 & chevrolet   & gas & std   & two  & hatchback   & fwd & front &  88.4 & 141.1 & 60.3 & 53.2 & 1488 & l    & three &  61 & 2bbl & 2.91 & 3.03 &  9.5 & 48  & 5100 & 47 & 53 & 5151 \\\\\n\t 1 & 98  & chevrolet   & gas & std   & two  & hatchback   & fwd & front &  94.5 & 155.9 & 63.6 & 52.0 & 1874 & ohc  & four  &  90 & 2bbl & 3.03 & 3.11 &  9.6 & 70  & 5400 & 38 & 43 & 6295 \\\\\n\\end{tabular}\n",
            "text/markdown": "\nA data.frame: 20 x 26\n\n| symboling &lt;int&gt; | normalized.losses &lt;chr&gt; | make &lt;chr&gt; | fuel.type &lt;chr&gt; | aspiration &lt;chr&gt; | num.of.doors &lt;chr&gt; | body.style &lt;chr&gt; | drive.wheels &lt;chr&gt; | engine.location &lt;chr&gt; | wheel.base &lt;dbl&gt; | ... ... | engine.size &lt;int&gt; | fuel.system &lt;chr&gt; | bore &lt;chr&gt; | stroke &lt;chr&gt; | compression.ratio &lt;dbl&gt; | horsepower &lt;chr&gt; | peak.rpm &lt;chr&gt; | city.mpg &lt;int&gt; | highway.mpg &lt;int&gt; | price &lt;chr&gt; |\n|---|---|---|---|---|---|---|---|---|---|---|---|---|---|---|---|---|---|---|---|---|\n| 3 | ?   | alfa-romero | gas | std   | two  | convertible | rwd | front |  88.6 | ... | 130 | mpfi | 3.47 | 2.68 |  9.0 | 111 | 5000 | 21 | 27 | 13495 |\n| 3 | ?   | alfa-romero | gas | std   | two  | convertible | rwd | front |  88.6 | ... | 130 | mpfi | 3.47 | 2.68 |  9.0 | 111 | 5000 | 21 | 27 | 16500 |\n| 1 | ?   | alfa-romero | gas | std   | two  | hatchback   | rwd | front |  94.5 | ... | 152 | mpfi | 2.68 | 3.47 |  9.0 | 154 | 5000 | 19 | 26 | 16500 |\n| 2 | 164 | audi        | gas | std   | four | sedan       | fwd | front |  99.8 | ... | 109 | mpfi | 3.19 | 3.40 | 10.0 | 102 | 5500 | 24 | 30 | 13950 |\n| 2 | 164 | audi        | gas | std   | four | sedan       | 4wd | front |  99.4 | ... | 136 | mpfi | 3.19 | 3.40 |  8.0 | 115 | 5500 | 18 | 22 | 17450 |\n| 2 | ?   | audi        | gas | std   | two  | sedan       | fwd | front |  99.8 | ... | 136 | mpfi | 3.19 | 3.40 |  8.5 | 110 | 5500 | 19 | 25 | 15250 |\n| 1 | 158 | audi        | gas | std   | four | sedan       | fwd | front | 105.8 | ... | 136 | mpfi | 3.19 | 3.40 |  8.5 | 110 | 5500 | 19 | 25 | 17710 |\n| 1 | ?   | audi        | gas | std   | four | wagon       | fwd | front | 105.8 | ... | 136 | mpfi | 3.19 | 3.40 |  8.5 | 110 | 5500 | 19 | 25 | 18920 |\n| 1 | 158 | audi        | gas | turbo | four | sedan       | fwd | front | 105.8 | ... | 131 | mpfi | 3.13 | 3.40 |  8.3 | 140 | 5500 | 17 | 20 | 23875 |\n| 0 | ?   | audi        | gas | turbo | two  | hatchback   | 4wd | front |  99.5 | ... | 131 | mpfi | 3.13 | 3.40 |  7.0 | 160 | 5500 | 16 | 22 | ?     |\n| 2 | 192 | bmw         | gas | std   | two  | sedan       | rwd | front | 101.2 | ... | 108 | mpfi | 3.50 | 2.80 |  8.8 | 101 | 5800 | 23 | 29 | 16430 |\n| 0 | 192 | bmw         | gas | std   | four | sedan       | rwd | front | 101.2 | ... | 108 | mpfi | 3.50 | 2.80 |  8.8 | 101 | 5800 | 23 | 29 | 16925 |\n| 0 | 188 | bmw         | gas | std   | two  | sedan       | rwd | front | 101.2 | ... | 164 | mpfi | 3.31 | 3.19 |  9.0 | 121 | 4250 | 21 | 28 | 20970 |\n| 0 | 188 | bmw         | gas | std   | four | sedan       | rwd | front | 101.2 | ... | 164 | mpfi | 3.31 | 3.19 |  9.0 | 121 | 4250 | 21 | 28 | 21105 |\n| 1 | ?   | bmw         | gas | std   | four | sedan       | rwd | front | 103.5 | ... | 164 | mpfi | 3.31 | 3.19 |  9.0 | 121 | 4250 | 20 | 25 | 24565 |\n| 0 | ?   | bmw         | gas | std   | four | sedan       | rwd | front | 103.5 | ... | 209 | mpfi | 3.62 | 3.39 |  8.0 | 182 | 5400 | 16 | 22 | 30760 |\n| 0 | ?   | bmw         | gas | std   | two  | sedan       | rwd | front | 103.5 | ... | 209 | mpfi | 3.62 | 3.39 |  8.0 | 182 | 5400 | 16 | 22 | 41315 |\n| 0 | ?   | bmw         | gas | std   | four | sedan       | rwd | front | 110.0 | ... | 209 | mpfi | 3.62 | 3.39 |  8.0 | 182 | 5400 | 15 | 20 | 36880 |\n| 2 | 121 | chevrolet   | gas | std   | two  | hatchback   | fwd | front |  88.4 | ... |  61 | 2bbl | 2.91 | 3.03 |  9.5 | 48  | 5100 | 47 | 53 | 5151  |\n| 1 | 98  | chevrolet   | gas | std   | two  | hatchback   | fwd | front |  94.5 | ... |  90 | 2bbl | 3.03 | 3.11 |  9.6 | 70  | 5400 | 38 | 43 | 6295  |\n\n",
            "text/html": "<table>\n<caption>A data.frame: 20 x 26</caption>\n<thead>\n\t<tr><th scope=col>symboling</th><th scope=col>normalized.losses</th><th scope=col>make</th><th scope=col>fuel.type</th><th scope=col>aspiration</th><th scope=col>num.of.doors</th><th scope=col>body.style</th><th scope=col>drive.wheels</th><th scope=col>engine.location</th><th scope=col>wheel.base</th><th scope=col>...</th><th scope=col>engine.size</th><th scope=col>fuel.system</th><th scope=col>bore</th><th scope=col>stroke</th><th scope=col>compression.ratio</th><th scope=col>horsepower</th><th scope=col>peak.rpm</th><th scope=col>city.mpg</th><th scope=col>highway.mpg</th><th scope=col>price</th></tr>\n\t<tr><th scope=col>&lt;int&gt;</th><th scope=col>&lt;chr&gt;</th><th scope=col>&lt;chr&gt;</th><th scope=col>&lt;chr&gt;</th><th scope=col>&lt;chr&gt;</th><th scope=col>&lt;chr&gt;</th><th scope=col>&lt;chr&gt;</th><th scope=col>&lt;chr&gt;</th><th scope=col>&lt;chr&gt;</th><th scope=col>&lt;dbl&gt;</th><th scope=col>...</th><th scope=col>&lt;int&gt;</th><th scope=col>&lt;chr&gt;</th><th scope=col>&lt;chr&gt;</th><th scope=col>&lt;chr&gt;</th><th scope=col>&lt;dbl&gt;</th><th scope=col>&lt;chr&gt;</th><th scope=col>&lt;chr&gt;</th><th scope=col>&lt;int&gt;</th><th scope=col>&lt;int&gt;</th><th scope=col>&lt;chr&gt;</th></tr>\n</thead>\n<tbody>\n\t<tr><td>3</td><td>?  </td><td>alfa-romero</td><td>gas</td><td>std  </td><td>two </td><td>convertible</td><td>rwd</td><td>front</td><td> 88.6</td><td>...</td><td>130</td><td>mpfi</td><td>3.47</td><td>2.68</td><td> 9.0</td><td>111</td><td>5000</td><td>21</td><td>27</td><td>13495</td></tr>\n\t<tr><td>3</td><td>?  </td><td>alfa-romero</td><td>gas</td><td>std  </td><td>two </td><td>convertible</td><td>rwd</td><td>front</td><td> 88.6</td><td>...</td><td>130</td><td>mpfi</td><td>3.47</td><td>2.68</td><td> 9.0</td><td>111</td><td>5000</td><td>21</td><td>27</td><td>16500</td></tr>\n\t<tr><td>1</td><td>?  </td><td>alfa-romero</td><td>gas</td><td>std  </td><td>two </td><td>hatchback  </td><td>rwd</td><td>front</td><td> 94.5</td><td>...</td><td>152</td><td>mpfi</td><td>2.68</td><td>3.47</td><td> 9.0</td><td>154</td><td>5000</td><td>19</td><td>26</td><td>16500</td></tr>\n\t<tr><td>2</td><td>164</td><td>audi       </td><td>gas</td><td>std  </td><td>four</td><td>sedan      </td><td>fwd</td><td>front</td><td> 99.8</td><td>...</td><td>109</td><td>mpfi</td><td>3.19</td><td>3.40</td><td>10.0</td><td>102</td><td>5500</td><td>24</td><td>30</td><td>13950</td></tr>\n\t<tr><td>2</td><td>164</td><td>audi       </td><td>gas</td><td>std  </td><td>four</td><td>sedan      </td><td>4wd</td><td>front</td><td> 99.4</td><td>...</td><td>136</td><td>mpfi</td><td>3.19</td><td>3.40</td><td> 8.0</td><td>115</td><td>5500</td><td>18</td><td>22</td><td>17450</td></tr>\n\t<tr><td>2</td><td>?  </td><td>audi       </td><td>gas</td><td>std  </td><td>two </td><td>sedan      </td><td>fwd</td><td>front</td><td> 99.8</td><td>...</td><td>136</td><td>mpfi</td><td>3.19</td><td>3.40</td><td> 8.5</td><td>110</td><td>5500</td><td>19</td><td>25</td><td>15250</td></tr>\n\t<tr><td>1</td><td>158</td><td>audi       </td><td>gas</td><td>std  </td><td>four</td><td>sedan      </td><td>fwd</td><td>front</td><td>105.8</td><td>...</td><td>136</td><td>mpfi</td><td>3.19</td><td>3.40</td><td> 8.5</td><td>110</td><td>5500</td><td>19</td><td>25</td><td>17710</td></tr>\n\t<tr><td>1</td><td>?  </td><td>audi       </td><td>gas</td><td>std  </td><td>four</td><td>wagon      </td><td>fwd</td><td>front</td><td>105.8</td><td>...</td><td>136</td><td>mpfi</td><td>3.19</td><td>3.40</td><td> 8.5</td><td>110</td><td>5500</td><td>19</td><td>25</td><td>18920</td></tr>\n\t<tr><td>1</td><td>158</td><td>audi       </td><td>gas</td><td>turbo</td><td>four</td><td>sedan      </td><td>fwd</td><td>front</td><td>105.8</td><td>...</td><td>131</td><td>mpfi</td><td>3.13</td><td>3.40</td><td> 8.3</td><td>140</td><td>5500</td><td>17</td><td>20</td><td>23875</td></tr>\n\t<tr><td>0</td><td>?  </td><td>audi       </td><td>gas</td><td>turbo</td><td>two </td><td>hatchback  </td><td>4wd</td><td>front</td><td> 99.5</td><td>...</td><td>131</td><td>mpfi</td><td>3.13</td><td>3.40</td><td> 7.0</td><td>160</td><td>5500</td><td>16</td><td>22</td><td>?    </td></tr>\n\t<tr><td>2</td><td>192</td><td>bmw        </td><td>gas</td><td>std  </td><td>two </td><td>sedan      </td><td>rwd</td><td>front</td><td>101.2</td><td>...</td><td>108</td><td>mpfi</td><td>3.50</td><td>2.80</td><td> 8.8</td><td>101</td><td>5800</td><td>23</td><td>29</td><td>16430</td></tr>\n\t<tr><td>0</td><td>192</td><td>bmw        </td><td>gas</td><td>std  </td><td>four</td><td>sedan      </td><td>rwd</td><td>front</td><td>101.2</td><td>...</td><td>108</td><td>mpfi</td><td>3.50</td><td>2.80</td><td> 8.8</td><td>101</td><td>5800</td><td>23</td><td>29</td><td>16925</td></tr>\n\t<tr><td>0</td><td>188</td><td>bmw        </td><td>gas</td><td>std  </td><td>two </td><td>sedan      </td><td>rwd</td><td>front</td><td>101.2</td><td>...</td><td>164</td><td>mpfi</td><td>3.31</td><td>3.19</td><td> 9.0</td><td>121</td><td>4250</td><td>21</td><td>28</td><td>20970</td></tr>\n\t<tr><td>0</td><td>188</td><td>bmw        </td><td>gas</td><td>std  </td><td>four</td><td>sedan      </td><td>rwd</td><td>front</td><td>101.2</td><td>...</td><td>164</td><td>mpfi</td><td>3.31</td><td>3.19</td><td> 9.0</td><td>121</td><td>4250</td><td>21</td><td>28</td><td>21105</td></tr>\n\t<tr><td>1</td><td>?  </td><td>bmw        </td><td>gas</td><td>std  </td><td>four</td><td>sedan      </td><td>rwd</td><td>front</td><td>103.5</td><td>...</td><td>164</td><td>mpfi</td><td>3.31</td><td>3.19</td><td> 9.0</td><td>121</td><td>4250</td><td>20</td><td>25</td><td>24565</td></tr>\n\t<tr><td>0</td><td>?  </td><td>bmw        </td><td>gas</td><td>std  </td><td>four</td><td>sedan      </td><td>rwd</td><td>front</td><td>103.5</td><td>...</td><td>209</td><td>mpfi</td><td>3.62</td><td>3.39</td><td> 8.0</td><td>182</td><td>5400</td><td>16</td><td>22</td><td>30760</td></tr>\n\t<tr><td>0</td><td>?  </td><td>bmw        </td><td>gas</td><td>std  </td><td>two </td><td>sedan      </td><td>rwd</td><td>front</td><td>103.5</td><td>...</td><td>209</td><td>mpfi</td><td>3.62</td><td>3.39</td><td> 8.0</td><td>182</td><td>5400</td><td>16</td><td>22</td><td>41315</td></tr>\n\t<tr><td>0</td><td>?  </td><td>bmw        </td><td>gas</td><td>std  </td><td>four</td><td>sedan      </td><td>rwd</td><td>front</td><td>110.0</td><td>...</td><td>209</td><td>mpfi</td><td>3.62</td><td>3.39</td><td> 8.0</td><td>182</td><td>5400</td><td>15</td><td>20</td><td>36880</td></tr>\n\t<tr><td>2</td><td>121</td><td>chevrolet  </td><td>gas</td><td>std  </td><td>two </td><td>hatchback  </td><td>fwd</td><td>front</td><td> 88.4</td><td>...</td><td> 61</td><td>2bbl</td><td>2.91</td><td>3.03</td><td> 9.5</td><td>48 </td><td>5100</td><td>47</td><td>53</td><td>5151 </td></tr>\n\t<tr><td>1</td><td>98 </td><td>chevrolet  </td><td>gas</td><td>std  </td><td>two </td><td>hatchback  </td><td>fwd</td><td>front</td><td> 94.5</td><td>...</td><td> 90</td><td>2bbl</td><td>3.03</td><td>3.11</td><td> 9.6</td><td>70 </td><td>5400</td><td>38</td><td>43</td><td>6295 </td></tr>\n</tbody>\n</table>\n"
          },
          "metadata": {}
        }
      ]
    },
    {
      "metadata": {},
      "cell_type": "markdown",
      "source": "### Treat missing values\n\n**Missing values** are a common problem in data set. Failure to deal with missing values before training a machine learning model will lead to biased training at best, and in many cases actual failure. Many R models will not process arrays with missing values. \n\nThere are two problems that must be dealt with when treating missing values:\n1. First you must find the missing values. This can be difficult as there is no standard way missing values are coded. Some common possibilities for missing values are:\n  - Coded by some particular character string, or numeric value like -999. \n  - A NULL value or numeric missing value such as a NaN. \n2. You must determine how to treat the missing values:\n  - Remove features with substantial numbers of missing values. In many cases, such features are likely to have little information value. \n  - Remove rows with missing values. If there are only a few rows with missing values it might be easier and more certain to simply remove them. \n  - Impute values. Imputation can be done with simple algorithms such as replacing the missing values with the mean or median value. There are also complex statistical methods such as the expectation maximization (EM) or SMOTE algorithms. \n  - Use nearest neighbor values. Alternatives for nearest neighbor values include, averaging, forward filling or backward filling. \n  \nCarefully observe the first few cases from the data frame and notice that missing values are coded with a '?' character. Execute the code in the cell below to identify the columns with missing values."
    },
    {
      "metadata": {
        "trusted": false
      },
      "cell_type": "code",
      "source": "#(auto_prices == '?').any\nlapply(auto_prices, function(x){any(x == '?')})",
      "execution_count": null,
      "outputs": []
    },
    {
      "metadata": {},
      "cell_type": "markdown",
      "source": "Execute the code in the cell below to display the data types of each column and a sample of the values."
    },
    {
      "metadata": {
        "trusted": false
      },
      "cell_type": "code",
      "source": "str(auto_prices)",
      "execution_count": null,
      "outputs": []
    },
    {
      "metadata": {},
      "cell_type": "markdown",
      "source": "Compare the columns with missing values to their data types. In all cases, the columns with missing values have a `character` type as a result of using the '?' code. As a result, some columns that should be numeric (bore, stroke, horsepower, peak.rpm, and price) are coded as `character`.\n\nThe next question is how many missing values are in each of these `character` type columns? Execute the code in the cell below to display the counts of missing values. "
    },
    {
      "metadata": {
        "trusted": false
      },
      "cell_type": "code",
      "source": "for(col in names(auto_prices)){\n    if(is.character(auto_prices[,col])){\n        count = sum(ifelse(auto_prices[,col] == '?', 1, 0))\n        cat(paste(col, as.character(count), '\\n'))\n    }\n}",
      "execution_count": null,
      "outputs": []
    },
    {
      "metadata": {},
      "cell_type": "markdown",
      "source": "The `normalize.losses` column has a significant number of missing values and will be removed. Columns that should be numeric, but contain missing values, are processed in the following manner:\n1. The '?' values are replaced with R `NA` values.\n2. Rows containing `NA` values are removed with `complete.cases`. \n\nExecute this code, noticing the resulting shape of the data frame. "
    },
    {
      "metadata": {
        "trusted": false
      },
      "cell_type": "code",
      "source": "## Drop column with too many missing values\nauto_prices[,'normalized.losses'] = NULL\n## Remove rows with missing values, accounting for mising values coded as '?'\ncols = c('price', 'bore', 'stroke', 'horsepower', 'peak.rpm')\nauto_prices[,cols] = lapply(auto_prices[,cols], function(x){ifelse(x == '?', NA, x)})\nauto_prices = auto_prices[complete.cases(auto_prices[,cols]),]\ndim(auto_prices)",
      "execution_count": null,
      "outputs": []
    },
    {
      "metadata": {},
      "cell_type": "markdown",
      "source": "The data set now contains 195 cases and 25 columns. 10 rows have been dropped by removing missing values. "
    },
    {
      "metadata": {},
      "cell_type": "markdown",
      "source": "### Transform column data type\n\nAs has been previously noted, there are five columns in this dataset which do not have the correct type as a result of missing values. This is a common situation, as the methods used to automatically determine data type when loading files can fail when missing values are present. \n\nThe code in the cell below iterates over a list of columns setting them to numeric. Execute this code and observe the resulting  types."
    },
    {
      "metadata": {
        "trusted": false
      },
      "cell_type": "code",
      "source": "auto_prices[,cols] = lapply(auto_prices[,cols], as.numeric)\nstr(auto_prices[,cols])",
      "execution_count": null,
      "outputs": []
    },
    {
      "metadata": {},
      "cell_type": "markdown",
      "source": "### Feature engineering and transforming variables\n\nIn most cases, machine learning is not performed using raw features. Features are transformed, or combined to form new features in forms which are more predictive This process is known as **feature engineering**. In many cases, good feature engineering is more important than the details of the machine learning model used. It is often the case that good features can make even poor machine learning models work well, whereas, given poor features even the best machine learning model will produce poor results. Some common approaches to feature engineering include:\n- **Aggregating categories** of categorical variables to reduce the number. Categorical features or labels with too many unique categories will limit the predictive power of a machine learning model. Aggregating categories can improve this situation, sometime greatly. However, one must be careful. It only makes sense to aggregate categories that are similar in the domain of the problem. Thus, domain expertise must be applied. \n- **Transforming numeric variables** to improve their distribution properties to make them more covariate with other variables. This process can be applied not only to features, but to labels for regression problems. Some common transformations include, **logarithmic** and **power** included squares and square roots. \n- **Compute new features** from two or more existing features. These new features are often referred to as **interaction terms**. An interaction occurs when the behavior of say, the produce of the values of two features, is significantly more predictive than the two features by themselves. Consider the probability of purchase for a luxury mens' shoe. This probability depends on the interaction of the user being a man and the buyer being wealthy. As another example, consider the number of expected riders on a bus route. This value will depend on the interaction between the time of day and if it is a holiday. "
    },
    {
      "metadata": {},
      "cell_type": "markdown",
      "source": "#### Aggregating categorical variables\n\nWhen a dataset contains categorical variables these need to be investigated to ensure that each category has sufficient samples. It is commonly the case that some categories may have very few samples, or have so many similar categories as to be meaningless. \n\nAs a specific case, you will examine the number of cylinders in the cars. Execute the code in the cell below to print a frequency table for this variable and examine the result. "
    },
    {
      "metadata": {
        "trusted": false
      },
      "cell_type": "code",
      "source": "table(auto_prices[,'num.of.cylinders'])",
      "execution_count": null,
      "outputs": []
    },
    {
      "metadata": {},
      "cell_type": "markdown",
      "source": "Notice that there is only one car with three and twelve cylinders. There are only four cars with eight cylinders, and 10 cars with five cylinders. It is likely that all of these categories will not have statistically significant difference in predicting auto price. It is clear that these categories need to be aggregated. \n\nThe code in the cell below uses a list with named elements to recode the number of cylinder categories into a smaller number categories. Notice that `out` vector is defined in advance. Execute this code and examine the resulting frequency table."
    },
    {
      "metadata": {
        "trusted": false
      },
      "cell_type": "code",
      "source": "cylinder_categories = c('three' = 'three_four', 'four' = 'three_four', \n                    'five' = 'five_six', 'six' = 'five_six',\n                    'eight' = 'eight_twelve', 'twelve' = 'eight_twelve')\n\nout = rep('i', length.out = nrow(auto_prices))\ni = 1\nfor(x in auto_prices[,'num.of.cylinders']){\n    out[i] = cylinder_categories[[x]]\n    i = i + 1\n}\nauto_prices[,'num.of.cylinders'] = out\n\ntable(auto_prices[,'num.of.cylinders'])",
      "execution_count": null,
      "outputs": []
    },
    {
      "metadata": {},
      "cell_type": "markdown",
      "source": "There are now three categories. One of these categories only has five members. However, it is likely that these autos will have different pricing from others.\n\nNext, execute the code in the cell below to make box plots of the new cylinder categories."
    },
    {
      "metadata": {
        "trusted": false
      },
      "cell_type": "code",
      "source": "ggplot(auto_prices, aes(num.of.cylinders,price)) + \n       geom_boxplot()",
      "execution_count": null,
      "outputs": []
    },
    {
      "metadata": {},
      "cell_type": "markdown",
      "source": "Indeed, the price range of these categories is distinctive. It is likely that these new categories will be useful in predicting the price of autos. \n\nNow, execute the code in the cell below and examine the frequency table for the `body.style` feature."
    },
    {
      "metadata": {
        "trusted": false
      },
      "cell_type": "code",
      "source": "table(auto_prices[,'body.style'])",
      "execution_count": null,
      "outputs": []
    },
    {
      "metadata": {},
      "cell_type": "markdown",
      "source": "Two of these categories have a limited number of cases. These categories can be aggregated to increase the number of cases using a similar approach as used for the number of cylinders. Execute the code in the cell below to aggregate these categories."
    },
    {
      "metadata": {
        "trusted": false
      },
      "cell_type": "code",
      "source": "body_cats = c('sedan' = 'sedan', 'hatchback' = 'hatchback', 'wagon' = 'wagon', \n             'hardtop' = 'hardtop_convert', 'convertible' = 'hardtop_convert')\n\nout = rep('i', length.out = nrow(auto_prices))\ni = 1\nfor(x in auto_prices[,'body.style']){\n    out[i] = body_cats[[x]]\n    i = i + 1\n}\nauto_prices[,'body.style'] = out\n\ntable(auto_prices[,'body.style'])",
      "execution_count": null,
      "outputs": []
    },
    {
      "metadata": {},
      "cell_type": "markdown",
      "source": "To investigate if this aggregation of categories was a good idea, execute the code in the cell below to display a box plot. \n\nThen, answer **Question 1** on the course page."
    },
    {
      "metadata": {
        "trusted": false
      },
      "cell_type": "code",
      "source": "ggplot(auto_prices, aes(body.style,price)) + \n       geom_boxplot()  ",
      "execution_count": null,
      "outputs": []
    },
    {
      "metadata": {},
      "cell_type": "markdown",
      "source": "The `hardtop_convert` category does appear to have values distinct from the other body style. "
    },
    {
      "metadata": {},
      "cell_type": "markdown",
      "source": "#### Transforming numeric variables\n\nTo improve performance of machine learning models transformations of the values are often applied. Typically, transformations are used to make the relationships between variables more linear. In other cases, transformations are performed to make distributions closer to Normal, or at least more symmetric. These transformations can include taking logarithms, exponential transformations and power transformations. \n\nIn this case, you will transform the label, the price of the car. Execute the code in the cell below to display and examine a histogram of the label. "
    },
    {
      "metadata": {
        "trusted": false
      },
      "cell_type": "code",
      "source": "plot_hist = function(df, col = 'price', bins = 10){\n    options(repr.plot.width=4, repr.plot.height=3) # Set the initial plot area dimensions\n    bw = (max(df[,col]) - min(df[,col]))/(bins + 1)\n    p = ggplot(df, aes_string(col)) + \n               geom_histogram(binwidth = bw, aes(y=..density..), alpha = 0.5) +\n               geom_density(aes(y=..density..), color = 'blue') + \n               geom_rug()\n    print(p)\n}    \nplot_hist(auto_prices)    ",
      "execution_count": null,
      "outputs": []
    },
    {
      "metadata": {},
      "cell_type": "markdown",
      "source": "The distribution of auto price is both quite skewed to the left and multi-modal. Given the skew and the fact that there are no values less than or equal to zero, a log transformation might be appropriate.\n\nThe code in the cell below displays a histogram of the logarithm of prices. Execute this code and examine the result."
    },
    {
      "metadata": {
        "trusted": false
      },
      "cell_type": "code",
      "source": "auto_prices[, 'log_price'] = log(auto_prices[,'price'])\nplot_hist(auto_prices, col = 'log_price')",
      "execution_count": null,
      "outputs": []
    },
    {
      "metadata": {},
      "cell_type": "markdown",
      "source": "The distribution of the logarithm of price is more symmetric, but still shows some multi-modal tendency and skew. None-the-less, this is an improvement so we will use these values as our label.\n\nThe next question is, how does this transformation change the relationship between the label and some of the features? To find out, execute the code in the cell below. "
    },
    {
      "metadata": {
        "trusted": false
      },
      "cell_type": "code",
      "source": "plot_scatter_sp = function(df, cols, col_y = 'log_price', alpha = 1.0){\n    options(repr.plot.width=5, repr.plot.height=3.5) # Set the initial plot area dimensions\n    for(col in cols){\n        p = ggplot(df, aes_string(col, col_y)) + \n                   geom_point(aes(shape = factor(fuel.type)), alpha = alpha) +\n                   ggtitle(paste('Scatter plot of', col_y, 'vs.', col, '\\n with shape by fuel type'))\n        print(p)\n    }\n}\n\nnum_cols = c('curb.weight', 'engine.size', 'horsepower', 'city.mpg')\nplot_scatter_sp(auto_prices, num_cols, alpha = 0.2)",
      "execution_count": null,
      "outputs": []
    },
    {
      "metadata": {},
      "cell_type": "markdown",
      "source": "Comparing the results to those obtained in the visualization lab, it does appear that the relationships between curb.weight and log_price and city.mpg and log_price are more linear. \n\nThe relationship with the log_price and categorical variables should likely also be investigated. It is also possible that some type of power transformation should be applied to, say horsepower or engine size. In the interest of brevity, these ideas are not pursued here. \n\nBefore proceeding, answer **Question 2** on the course page."
    },
    {
      "metadata": {
        "trusted": false
      },
      "cell_type": "code",
      "source": "# Let's save the dataframe to a csv file \n# We will use this in the next module so that we don't have to re-do the steps above\n# You don't have to run this code as the csv file has been saved under the next module's folder\n#write.csv(auto_prices, file = 'Auto_Prices_Preped.csv', row.names = FALSE)",
      "execution_count": null,
      "outputs": []
    },
    {
      "metadata": {},
      "cell_type": "markdown",
      "source": "## Another example\n\nNext, you will prepare the German credit data. Execute the code in the cell below  to load the dataset and print the head (first 5 rows) of the dataframe."
    },
    {
      "metadata": {
        "trusted": false
      },
      "cell_type": "code",
      "source": "credit = read.csv('German_Credit.csv', stringsAsFactors = FALSE, header = FALSE)\nhead(credit, 5)",
      "execution_count": null,
      "outputs": []
    },
    {
      "metadata": {},
      "cell_type": "markdown",
      "source": "This dataset is a bit hard to understand. For a start, the column names are not human readable. \n\n### Recode character strings \n\nYou have likely noticed that the the column names are  not human readable. This can be changed as was done for the previous dataset. Execute the code in the cell below to add human-readable column names to the data frame. "
    },
    {
      "metadata": {
        "trusted": false
      },
      "cell_type": "code",
      "source": "names(credit) = c('Customer_ID', 'checking_account_status', 'loan_duration_mo', 'credit_history', \n                  'purpose', 'loan_amount', 'savings_account_balance', \n                  'time_employed_yrs', 'payment_pcnt_income','gender_status', \n                  'other_signators', 'time_in_residence', 'property', 'age_yrs',\n                  'other_credit_outstanding', 'home_ownership', 'number_loans', \n                  'job_category', 'dependents', 'telephone', 'foreign_worker', \n                  'bad_credit')\nhead(credit, 5)",
      "execution_count": null,
      "outputs": []
    },
    {
      "metadata": {},
      "cell_type": "markdown",
      "source": "Next, there is a trickier problem to deal with. The current coding of the categorical variables is impossible to understand. This makes interpreting these variables nearly impossible.  \n\nThe code in the cell below uses a list of lists to recode the categorical features with human-readable text. The last list recodes good and bad credit as a binary variable, $\\{ 0,1 \\}$. This process is:\n1. The `for` loop iterates over the columns. \n2. A lookup is performed on the list for each column to find the human-readable code which is then substituted. \n\nExecute this code and examine the result: "
    },
    {
      "metadata": {
        "scrolled": true,
        "trusted": false
      },
      "cell_type": "code",
      "source": "checking_account_status = c('< 0 DM', '0 - 200 DM', '> 200 DM or salary assignment', 'none')\nnames(checking_account_status) = c('A11', 'A12', 'A13', 'A14')\ncredit_history = c('no credit - paid', 'all loans at bank paid', 'current loans paid', \n                   'past payment delays',  'critical account - other non-bank loans')\nnames(credit_history) = c('A30', 'A31', 'A32', 'A33', 'A34')\npurpose = c( 'car (new)', 'car (used)', 'furniture/equipment', 'radio/television', \n             'domestic appliances', 'repairs', 'education', 'vacation', 'retraining',\n             'business', 'other')\nnames(purpose) = c('A40', 'A41', 'A42', 'A43', 'A44', 'A45', 'A46', 'A47', 'A48', 'A49', 'A410')\nsavings_account_balance = c('< 100 DM', '100 - 500 DM', '500 - 1000 DM', '>= 1000 DM', 'unknown/none')\nnames(savings_account_balance) = c('A61', 'A62', 'A63', 'A64', 'A65')\ntime_employed_yrs = c('unemployed', '< 1 year', '1 - 4 years', '4 - 7 years', '>= 7 years')\nnames(time_employed_yrs) = c('A71', 'A72', 'A73', 'A74', 'A75')\ngender_status = c('male-divorced/separated', 'female-divorced/separated/married',\n                  'male-single', 'male-married/widowed', 'female-single')\nnames(gender_status) = c('A91', 'A92', 'A93', 'A94', 'A95')\nother_signators = c('none', 'co-applicant', 'guarantor')\nnames(other_signators) = c('A101', 'A102', 'A103')\nproperty =  c('real estate', 'building society savings/life insurance', 'car or other', 'unknown-none')\nnames(property) = c('A121', 'A122', 'A123', 'A124')\nother_credit_outstanding = c('bank', 'stores', 'none')\nnames(other_credit_outstanding) = c('A141', 'A142', 'A143')\nhome_ownership = c('rent', 'own', 'for free')\nnames(home_ownership) = c('A151', 'A152', 'A153')\njob_category = c('unemployed-unskilled-non-resident', 'unskilled-resident', 'skilled', 'highly skilled')\nnames(job_category) =c('A171', 'A172', 'A173', 'A174')\ntelephone = c('none', 'yes')\nnames(telephone) = c('A191', 'A192')\nforeign_worker = c('yes', 'no')\nnames(foreign_worker) = c('A201', 'A202')\nbad_credit = c(1, 0)\nnames(bad_credit) = c(2, 1)\n            \ncodes = c('checking_account_status' = checking_account_status,\n         'credit_history' = credit_history,\n         'purpose' = purpose,\n         'savings_account_balance' = savings_account_balance,\n         'time_employed_yrs' = time_employed_yrs,\n         'gender_status' = gender_status,\n         'other_signators' = other_signators,\n         'property' = property,\n         'other_credit_outstanding' = other_credit_outstanding,\n         'home_ownership' = home_ownership,\n         'job_category' = job_category,\n         'telephone' = telephone,\n         'foreign_worker' = foreign_worker,\n         'bad_credit' = bad_credit)         \n\ncat_cols = c('checking_account_status', 'credit_history', 'purpose', 'savings_account_balance', \n                  'time_employed_yrs','gender_status', 'other_signators', 'property',\n                  'other_credit_outstanding', 'home_ownership', 'job_category', 'telephone', 'foreign_worker', \n                  'bad_credit')\n\nfor(col in cat_cols){\n    credit[,col] = sapply(credit[,col], function(code){codes[[paste(col, '.', code, sep = '')]]})\n}\n#credit$bad_credit = as.numeric(credit$bad_credit)\nhead(credit, 5)",
      "execution_count": null,
      "outputs": []
    },
    {
      "metadata": {},
      "cell_type": "markdown",
      "source": "The categorical values are now coded in a human readable manner. "
    },
    {
      "metadata": {},
      "cell_type": "markdown",
      "source": "### Remove duplicate rows\n\nDuplicate cases can seriously bias the training of machine learning models. In simple terms, cases which are duplicates add undue weight to that case when training a machine learning model. Therefore, it is necessary to ensure there are no duplicates in the dataset before training a model.  \n\nOne must be careful when determining if a case is a duplicate or not. It is possible that some cases have identical values, particularly if most or all features are categorical. On the other hand, if there are columns with values guaranteed to be unique these can be used to detect and remove duplicates.\n\nAnother consideration when removing duplicate cases is determining which case to remove. If the duplicates have different dates of creation, the newest date is often selected. In the absence of such a criteria, the choice is often arbitrary. You may chose to keep the first case or the last case. \n\nThe German credit data has a Customer ID column which should be unique. The presence of duplicates can be determined by comparing the number of rows to the number of unique values. The code in the cell below prints the shape of the data frame and the number of unique rows determined by the dplyr `distinct` function. \n\nExecute this code, examine the results, and answer **Question 3** on the course page."
    },
    {
      "metadata": {
        "trusted": false
      },
      "cell_type": "code",
      "source": "print(dim(credit))\ndim(distinct(credit))",
      "execution_count": null,
      "outputs": []
    },
    {
      "metadata": {},
      "cell_type": "markdown",
      "source": "There are 12 duplicate cases. These need to be located and the duplicates removed. In this case, the first instance will be kept. \n\nThe code in the cell below removes these duplicates from the data frame and resulting dimension is printed. Execute this code and examine the results. "
    },
    {
      "metadata": {
        "scrolled": true,
        "trusted": false
      },
      "cell_type": "code",
      "source": "#credit = distinct(credit)\ndim(credit)",
      "execution_count": null,
      "outputs": []
    },
    {
      "metadata": {},
      "cell_type": "markdown",
      "source": "The duplicate rows have been successfully removed. "
    },
    {
      "metadata": {
        "trusted": false
      },
      "cell_type": "code",
      "source": "# Let's save the dataframe to a csv file \n# We will use this in the next module so that we don't have to re-do the steps above\n# You don't have to run this code as the csv file has been saved under the next module's folder\n#write.csv(credit, file = 'German_Credit_Preped.csv', row.names = FALSE)",
      "execution_count": null,
      "outputs": []
    },
    {
      "metadata": {},
      "cell_type": "markdown",
      "source": "### Feature engineering\n\nSome feature engineering needs to be investigated to determine if any improvement in predictive power can be expected. From the previous data exploration, it is apparent that several of the numeric features had a strong left skew. A log transformation may help in a case like this. \n\nExecute the code in the cell below iterates over selected columns with `lapply` to apply the `log` function to each column."
    },
    {
      "metadata": {
        "trusted": false
      },
      "cell_type": "code",
      "source": "credit[,c('log_loan_duration_mo', 'log_loan_amount', 'log_age_yrs')] = lapply(credit[,c('loan_duration_mo', 'loan_amount', 'age_yrs')], log)",
      "execution_count": null,
      "outputs": []
    },
    {
      "metadata": {},
      "cell_type": "markdown",
      "source": "Next, execute the code in the cell below to visualize the differences in the distributions of the untransformed and transformed variables for the two label values. "
    },
    {
      "metadata": {
        "scrolled": false,
        "trusted": false
      },
      "cell_type": "code",
      "source": "plot_violin = function(df, cols, col_x = 'bad_credit'){\n    options(repr.plot.width=4, repr.plot.height=3.5) # Set the initial plot area dimensions\n    for(col in cols){\n        p = ggplot(df, aes_string(col_x, col)) + \n                   geom_violin() +\n                   ggtitle(paste('Box plot of', col, '\\n vs.', col_x))\n        print(p)\n    }\n}\n\nnum_cols = c('log_loan_duration_mo', 'log_loan_amount', 'log_age_yrs',\n                   'loan_duration_mo', 'loan_amount', 'age_yrs')\nplot_violin(credit, num_cols) ",
      "execution_count": null,
      "outputs": []
    },
    {
      "metadata": {},
      "cell_type": "markdown",
      "source": "The log transformed features have more symmetric distributions. However, it does not appear that the separation of the label cases is improved. \n\n****\n**Note:** Recalling the visualization of the categorical features, there are quite a few categories with few cases. However, it is not clear how these categories can be reasonably combined. It may be the case that some of these categorical features are not terribly predictive.\n****"
    },
    {
      "metadata": {},
      "cell_type": "markdown",
      "source": "## Summary\n\nGood data preparation is the key to good machine learning performance. Data preparation or data munging is a time interactive and iterative process. Continue to visualize the results as you test ideas. Expect to try many approaches, reject the ones that do not help, and keep the ones that do. In summary, test a lot of ideas, fail fast, keep what works. The reward is that well prepared data can improve the performance of almost any machine learning algorithm."
    }
  ],
  "metadata": {
    "kernelspec": {
      "name": "r",
      "display_name": "R",
      "language": "R"
    },
    "language_info": {
      "mimetype": "text/x-r-source",
      "name": "R",
      "pygments_lexer": "r",
      "version": "3.4.1",
      "file_extension": ".r",
      "codemirror_mode": "r"
    }
  },
  "nbformat": 4,
  "nbformat_minor": 2
}