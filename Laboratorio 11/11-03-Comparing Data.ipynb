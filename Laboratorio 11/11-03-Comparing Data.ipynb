{
  "cells": [
    {
      "metadata": {},
      "cell_type": "markdown",
      "source": "# Comparing Data\nYou'll often want to compare data in your dataset, to see if you can discern trends or relationships.\n\n## Univariate Data\n*Univariate* data is data that consist of only one variable or feature. While it may initially seem as though there's not much we can do to analyze univariate data, we've already seen that we can explore its distribution in terms of measures of central tendency and measures of variance. We've also seen how we can visualize this distribution using histograms and box plots.\n\nHere's a reminder of how you can visualize the distribution of univariate data, using our student grade data with a few additional observations in the sample:"
    },
    {
      "metadata": {
        "trusted": true
      },
      "cell_type": "code",
      "source": "%matplotlib inline\nimport pandas as pd\nfrom matplotlib import pyplot as plt\n\ndf = pd.DataFrame({'Name': ['Dan', 'Joann', 'Pedro', 'Rosie', 'Ethan', 'Vicky', 'Frederic', 'Jimmie', 'Rhonda', 'Giovanni', 'Francesca', 'Rajab', 'Naiyana', 'Kian', 'Jenny'],\n                   'Grade':[50,50,46,95,50,5,57,42,26,72,78,60,40,17,85]})\n\nplt.figure()\ndf['Grade'].plot( kind='box', title='Grade Distribution')\nplt.figure()\ndf['Grade'].hist(bins=9)\nplt.show()\nprint(df.describe())\nprint('median: ' + str(df['Grade'].median()))",
      "execution_count": 1,
      "outputs": [
        {
          "output_type": "display_data",
          "data": {
            "image/png": "[encoded data removed]",
            "text/plain": "<Figure size 432x288 with 1 Axes>"
          },
          "metadata": {
            "needs_background": "light"
          }
        },
        {
          "output_type": "display_data",
          "data": {
            "image/png": "[encoded data removed]",
            "text/plain": "<Figure size 432x288 with 1 Axes>"
          },
          "metadata": {
            "needs_background": "light"
          }
        },
        {
          "output_type": "stream",
          "text": "           Grade\ncount  15.000000\nmean   51.533333\nstd    24.642781\nmin     5.000000\n25%    41.000000\n50%    50.000000\n75%    66.000000\nmax    95.000000\nmedian: 50.0\n",
          "name": "stdout"
        }
      ]
    },
    {
      "metadata": {},
      "cell_type": "markdown",
      "source": "## Bivariate and Multivariate Data\nIt can often be useful to compare *bivariate* data; in other words, compare two variables, or even more (in which case we call it *multivariate* data).\n\nFor example, our student data includes three numeric variables for each student: their salary, the number of hours they work per week, and their final school grade. Run the following code to see an enlarged sample of this data as a table:"
    },
    {
      "metadata": {
        "trusted": false
      },
      "cell_type": "code",
      "source": "import pandas as pd\n\ndf = pd.DataFrame({'Name': ['Dan', 'Joann', 'Pedro', 'Rosie', 'Ethan', 'Vicky', 'Frederic', 'Jimmie', 'Rhonda', 'Giovanni', 'Francesca', 'Rajab', 'Naiyana', 'Kian', 'Jenny'],\n                   'Salary':[50000,54000,50000,189000,55000,40000,59000,42000,47000,78000,119000,95000,49000,29000,130000],\n                   'Hours':[41,40,36,17,35,39,40,45,41,35,30,33,38,47,24],\n                   'Grade':[50,50,46,95,50,5,57,42,26,72,78,60,40,17,85]})\n\ndf[['Name', 'Salary', 'Hours', 'Grade']]",
      "execution_count": null,
      "outputs": []
    },
    {
      "metadata": {},
      "cell_type": "markdown",
      "source": "Let's suppose you want to compare the distributions of these variables. You might simply create a boxplot for each variable, like this:"
    },
    {
      "metadata": {
        "trusted": false
      },
      "cell_type": "code",
      "source": "%matplotlib inline\nimport pandas as pd\nfrom matplotlib import pyplot as plt\n\ndf = pd.DataFrame({'Name': ['Dan', 'Joann', 'Pedro', 'Rosie', 'Ethan', 'Vicky', 'Frederic', 'Jimmie', 'Rhonda', 'Giovanni', 'Francesca', 'Rajab', 'Naiyana', 'Kian', 'Jenny'],\n                   'Salary':[50000,54000,50000,189000,55000,40000,59000,42000,47000,78000,119000,95000,49000,29000,130000],\n                   'Hours':[41,40,36,17,35,39,40,45,41,35,30,33,38,47,24],\n                   'Grade':[50,50,46,95,50,5,57,42,26,72,78,60,40,17,85]})\n\n\ndf.plot(kind='box', title='Distribution', figsize = (10,8))\nplt.show()",
      "execution_count": null,
      "outputs": []
    },
    {
      "metadata": {},
      "cell_type": "markdown",
      "source": "Hmm, that's not particularly useful is it?\n\nThe problem is that the data are all measured in different scales. Salaries are typically in tens of thousands, while hours and grades are in single or double digits.\n\n### Normalizing Data\nWhen you need to compare data in different units of measurement, you can *normalize* or *scale* the data so that the values are measured in the same proportional scale. For example, in Python you can use a MinMax scaler to normalize multiple numeric variables to a proportional value between 0 and 1 based on their minimum and maximum values. Run the following cell to do this:"
    },
    {
      "metadata": {
        "trusted": false
      },
      "cell_type": "code",
      "source": "%matplotlib inline\nimport pandas as pd\nfrom matplotlib import pyplot as plt\nfrom sklearn.preprocessing import MinMaxScaler\n\ndf = pd.DataFrame({'Name': ['Dan', 'Joann', 'Pedro', 'Rosie', 'Ethan', 'Vicky', 'Frederic', 'Jimmie', 'Rhonda', 'Giovanni', 'Francesca', 'Rajab', 'Naiyana', 'Kian', 'Jenny'],\n                   'Salary':[50000,54000,50000,189000,55000,40000,59000,42000,47000,78000,119000,95000,49000,29000,130000],\n                   'Hours':[41,40,36,17,35,39,40,45,41,35,30,33,38,47,24],\n                   'Grade':[50,50,46,95,50,5,57,42,26,72,78,60,40,17,85]})\n\n# Normalize the data\nscaler = MinMaxScaler()\ndf[['Salary', 'Hours', 'Grade']] = scaler.fit_transform(df[['Salary', 'Hours', 'Grade']])\n\n# Plot the normalized data\ndf.plot(kind='box', title='Distribution', figsize = (10,8))\nplt.show()",
      "execution_count": null,
      "outputs": []
    },
    {
      "metadata": {},
      "cell_type": "markdown",
      "source": "Now the numbers on the y axis aren't particularly meaningful, but they're on a similar scale."
    },
    {
      "metadata": {},
      "cell_type": "markdown",
      "source": "### Comparing Bivariate Data with a Scatter Plot\nWhen you need to compare two numeric values, a scatter plot can be a great way to see if there is any apparent relationship between them so that changes in the value of one variable affect the value of the other.\n\nLet's look at a scatter plot of *Salary* and *Grade*:"
    },
    {
      "metadata": {
        "trusted": false
      },
      "cell_type": "code",
      "source": "%matplotlib inline\nimport pandas as pd\nfrom matplotlib import pyplot as plt\n\ndf = pd.DataFrame({'Name': ['Dan', 'Joann', 'Pedro', 'Rosie', 'Ethan', 'Vicky', 'Frederic', 'Jimmie', 'Rhonda', 'Giovanni', 'Francesca', 'Rajab', 'Naiyana', 'Kian', 'Jenny'],\n                   'Salary':[50000,54000,50000,189000,55000,40000,59000,42000,47000,78000,119000,95000,49000,29000,130000],\n                   'Hours':[41,40,36,17,35,39,40,45,41,35,30,33,38,47,24],\n                   'Grade':[50,50,46,95,50,5,57,42,26,72,78,60,40,17,85]})\n\n# Create a scatter plot of Salary vs Grade\ndf.plot(kind='scatter', title='Grade vs Hours', x='Grade', y='Salary')\nplt.show()\n",
      "execution_count": null,
      "outputs": []
    },
    {
      "metadata": {},
      "cell_type": "markdown",
      "source": "Look closely at the scatter plot. Can you see a diagonal trend in the plotted points, rising up to the right? It looks as though the higher the student's grade is, the higher their salary is.\n\nYou can see the trend more clearly by adding a *line of best fit* (sometimes called a *trendline*) to the plot:"
    },
    {
      "metadata": {
        "trusted": false
      },
      "cell_type": "code",
      "source": "%matplotlib inline\nimport pandas as pd\nimport numpy as np\nfrom matplotlib import pyplot as plt\n\ndf = pd.DataFrame({'Name': ['Dan', 'Joann', 'Pedro', 'Rosie', 'Ethan', 'Vicky', 'Frederic', 'Jimmie', 'Rhonda', 'Giovanni', 'Francesca', 'Rajab', 'Naiyana', 'Kian', 'Jenny'],\n                   'Salary':[50000,54000,50000,189000,55000,40000,59000,42000,47000,78000,119000,95000,49000,29000,130000],\n                   'Hours':[41,40,36,17,35,39,40,45,41,35,30,33,38,47,24],\n                   'Grade':[50,50,46,95,50,5,57,42,26,72,78,60,40,17,85]})\n\n# Create a scatter plot of Salary vs Grade\ndf.plot(kind='scatter', title='Grade vs Salary', x='Grade', y='Salary')\n\n# Add a line of best fit\nplt.plot(np.unique(df['Grade']), np.poly1d(np.polyfit(df['Grade'], df['Salary'], 1))(np.unique(df['Grade'])))\n\nplt.show()",
      "execution_count": null,
      "outputs": []
    },
    {
      "metadata": {},
      "cell_type": "markdown",
      "source": "The line of best fit makes it clearer that there is some apparent *colinearity* between these variables (the relationship is *colinear* if one variable's value increases or decreases in line with the other).\n\n### Correlation\nThe apparently colinear relationship you saw in the scatter plot can be verified by calculating a statistic that quantifies the relationship between the two variables. The statistic usually used to do this is *correlation*, though there is also a statistic named *covariance* that is sometimes used. Correlation is generally preferred because the value it produces is more easily interpreted.\n\nA correlation value is always a number between ***-1*** and ***1***.\n- A positive value indicates a positive correlation (as the value of variable *x* increases, so does the value of variable *y*).\n- A negative value indicates a negative correlation (as the value of variable *x* increases, the value of variable *y* decreases).\n- The closer to zero the correlation value is, the weaker the correlation between *x* and *y*.\n- A correlation of exactly zero means there is no apparent relationship between the variables.\n\nThe formula to calculate correlation is:\n\n\\begin{equation}r_{x,y} = \\frac{\\displaystyle\\sum_{i=1}^{n} (x_{i} -\\bar{x})(y_{i} -\\bar{y})}{\\sqrt{\\displaystyle\\sum_{i=1}^{n} (x_{i} -\\bar{x})^{2}(y_{i} -\\bar{y})^{2}}}\\end{equation}\n\n**r<sub>x, y</sub>** is the notation for the *correlation between x and y*.\n\nThe formula is pretty complex, but fortunately Python makes it very easy to calculate the correlation by using the ***corr*** function:"
    },
    {
      "metadata": {
        "scrolled": true,
        "trusted": false
      },
      "cell_type": "code",
      "source": "import pandas as pd\n\ndf = pd.DataFrame({'Name': ['Dan', 'Joann', 'Pedro', 'Rosie', 'Ethan', 'Vicky', 'Frederic'],\n                   'Salary':[50000,54000,50000,189000,55000,40000,59000],\n                   'Hours':[41,40,36,17,35,39,40],\n                   'Grade':[50,50,46,95,50,5,57]})\n\n# Calculate the correlation between *Salary* and *Grade*\nprint(df['Grade'].corr(df['Salary']))",
      "execution_count": null,
      "outputs": []
    },
    {
      "metadata": {},
      "cell_type": "markdown",
      "source": "In this case, the correlation is just over 0.8; making it a reasonably high positive correlation that indicates salary increases in line with grade.\n\nLet's see if we can find a correlation between *Grade* and *Hours*:"
    },
    {
      "metadata": {
        "trusted": false
      },
      "cell_type": "code",
      "source": "%matplotlib inline\nimport pandas as pd\nimport numpy as np\nfrom matplotlib import pyplot as plt\n\ndf = pd.DataFrame({'Name': ['Dan', 'Joann', 'Pedro', 'Rosie', 'Ethan', 'Vicky', 'Frederic', 'Jimmie', 'Rhonda', 'Giovanni', 'Francesca', 'Rajab', 'Naiyana', 'Kian', 'Jenny'],\n                   'Salary':[50000,54000,50000,189000,55000,40000,59000,42000,47000,78000,119000,95000,49000,29000,130000],\n                   'Hours':[41,40,36,17,35,39,40,45,41,35,30,33,38,47,24],\n                   'Grade':[50,50,46,95,50,5,57,42,26,72,78,60,40,17,85]})\n\nr = df['Grade'].corr(df['Hours'])\nprint('Correlation: ' + str(r))\n\n# Create a scatter plot of Salary vs Grade\ndf.plot(kind='scatter', title='Grade vs Hours', x='Grade', y='Hours')\n\n# Add a line of best fit-\nplt.plot(np.unique(df['Grade']), np.poly1d(np.polyfit(df['Grade'], df['Hours'], 1))(np.unique(df['Grade'])))\nplt.show()\n",
      "execution_count": null,
      "outputs": []
    },
    {
      "metadata": {},
      "cell_type": "markdown",
      "source": "In this case, the correlation value is just under -0.8; meaning a fairly strong negative correlation in which the number of hours worked decreases as the grade increases. The line of best fit on the scatter plot corroborates this statistic.\n\nIt's important to remember that *correlation* **is not** *causation*. In other words, even though there's an apparent relationship, you can't say for sure that one variable is the cause of the other. In this example, we can say that students who achieved higher grades tend to work shorter hours; but we ***can't*** say that those who work shorter hours do so *because* they achieved a high grade!"
    },
    {
      "metadata": {},
      "cell_type": "markdown",
      "source": "## Least Squares Regression\nIn the previous examples, we drew a line on a scatter plot to show the *best fit* of the data. In many cases, your initial attempts to identify any colinearity might involve adding this kind of line by hand (or just mentally visualizing it); but as you may suspect from the use of the *numpy.**polyfit*** function in the code above, there are ways to calculate the coordinates for this line mathematically. One of the most commonly used techniques is *least squares regression*, and that's what we'll look at now.\n\nCast your mind back to when you were learning how to solve linear equations, and recall that the *slope-intercept* form of a linear equation lookes like this:\n\n\\begin{equation}y = mx + b\\end{equation}\n\nIn this equation, *y* and *x* are the coordinate variables, *m* is the slope of the line, and *b* is the y-intercept of the line.\n\nIn the case of our scatter plot for our former-student's working hours, we already have our values for *x* (*Grade*) and *y* (*Hours*), so we just need to calculate the intercept and slope of the straight line that lies closest to those points. Then we can form a linear equation that calculates the a new *y* value on that line for each of our *x* (*Grade*) values - to avoid confusion, we'll call this new *y* value *f(x)* (because it's the output from a linear equation function based on *x*). The difference between the original *y* (*Hours*) value and the *f(x)* value is the *error* between our regression line of best fit and the actual *Hours* worked by the former student. Our goal is to calculate the slope and intercept for a line with the lowest overall error.\n\nSpecifically, we define the overall error by taking the error for each point, squaring it, and adding all the squared errors together. The line of best fit is the line that gives us the lowest value for the sum of the squared errors - hence the name *least squares regression*.\n\nSo how do we accomplish this? First we need to calculate the slope (*m*), which we do using this formula (in which *n* is the number of observations in our data sample):\n\n\\begin{equation}m = \\frac{n(\\sum{xy}) - (\\sum{x})(\\sum{y})}{n(\\sum{x^{2}})-(\\sum{x})^{2}}\\end{equation}\n\nAfter we've calculated the slope (*m*), we can use is to calculate the intercept (*b*) like this:\n\n\\begin{equation}b = \\frac{\\sum{y} - m(\\sum{x})}{n}\\end{equation}\n\nLet's look at a simple example that compares the number of hours of nightly study each student undertook with the final grade the student achieved:\n\n| Name     | Study | Grade |\n|----------|-------|-------|\n| Dan      | 1     | 50    |\n| Joann    | 0.75  | 50    |\n| Pedro    | 0.6   | 46    |\n| Rosie    | 2     | 95    |\n| Ethan    | 1     | 50    |\n| Vicky    | 0.2   | 5     |\n| Frederic | 1.2   | 57    |\n\nFirst, let's take each *x* (Study) and *y* (Grade) pair and calculate *x<sup>2</sup>* and *xy*, because we're going to need these to work out the slope:\n\n| Name     | Study | Grade | x<sup>2</sup> | xy   |\n|----------|-------|-------|------|------|\n| Dan      | 1     | 50    | 1    | 50   |\n| Joann    | 0.75  | 50    | 0.55 | 37.5 |\n| Pedro    | 0.6   | 46    | 0.36 | 27.6 |\n| Rosie    | 2     | 95    | 4    | 190  |\n| Ethan    | 1     | 50    | 1    | 50   |\n| Vicky    | 0.2   | 5     | 0.04 | 1    |\n| Frederic | 1.2   | 57    | 1.44 | 68.4 |\n\nNow we'll sum *x*, *y*, *x<sup>2</sup>*, and *xy*:\n\n| Name     | Study | Grade | x<sup>2</sup> | xy   |\n|----------|-------|-------|------|------|\n| Dan      | 1     | 50    | 1    | 50   |\n| Joann    | 0.75  | 50    | 0.55 | 37.5 |\n| Pedro    | 0.6   | 46    | 0.36 | 27.6 |\n| Rosie    | 2     | 95    | 4    | 190  |\n| Ethan    | 1     | 50    | 1    | 50   |\n| Vicky    | 0.2   | 5     | 0.04 | 1    |\n| Frederic | 1.2   | 57    | 1.44 | 68.4 |\n| **&Sigma;**      | **6.75**  | **353**   | **8.4025**| **424.5**  |\n\nOK, now we're ready to calculate the slope for our *7* observations:\n\n\\begin{equation}m = \\frac{(7\\times 424.5) - (6.75\\times353)}{(7\\times8.4025)-6.75^{2}}\\end{equation}\n\nWhich is:\n\n\\begin{equation}m = \\frac{2971.5 - 2382.75}{58.8175-45.5625}\\end{equation}\n\nSo:\n\n\\begin{equation}m = \\frac{588.75}{13.255} \\approx 44.4172\\end{equation}\n\nNow we can calculate *b*:\n\n\\begin{equation}b = \\frac{353 - (44.4172\\times6.75)}{7}\\end{equation}\n\nWhich simplifies to:\n\n\\begin{equation}b = \\frac{53.18389}{7} = 7.597699\\end{equation}\n\nNow we have our linear function:\n\n\\begin{equation}f(x) = 44.4172x + 7.597699\\end{equation}\n\nWe can use this for each *x* (Study) value to calculate the *y* values for the regression line (*f(x)*), and we can subtract the original *y* (Grade) from these to calculate the error for each point:\n\n| Name     | Study | Grade | *f(x)* | Error |\n|----------|-------|-------|------|------ |\n| Dan      | 1     | 50    |52.0149 |2.0149 |\n| Joann    | 0.75  | 50    |40.9106 |-9.0894|\n| Pedro    | 0.6   | 46    |34.2480 |-11.752|\n| Rosie    | 2     | 95    |96.4321 |1.4321 |\n| Ethan    | 1     | 50    |52.0149 |2.0149 |\n| Vicky    | 0.2   | 5     |16.4811 |11.4811|\n| Frederic | 1.2   | 57    |60.8983 |3.8983 |\n\nAs you can see, the *f(x)* values are mostly quite close to the actual *Grade* values, and the errors (which when we're comparing estimated values from a function with actual known values we we often call *residuals*) are generally pretty small.\n\nLet's plot the least squares regression line with the actual values:"
    },
    {
      "metadata": {
        "trusted": false
      },
      "cell_type": "code",
      "source": "%matplotlib inline\nimport pandas as pd\nimport numpy as np\nfrom matplotlib import pyplot as plt\n\ndf = pd.DataFrame({'Name': ['Dan', 'Joann', 'Pedro', 'Rosie', 'Ethan', 'Vicky', 'Frederic'],\n                   'Study':[1,0.75,0.6,2,1,0.2,1.2],\n                   'Grade':[50,50,46,95,50,5,57],\n                   'fx':[52.0159,40.9106,34.2480,96.4321,52.0149,16.4811,60.8983]})\n\n# Create a scatter plot of Study vs Grade\ndf.plot(kind='scatter', title='Study Time vs Grade Regression', x='Study', y='Grade', color='red')\n\n# Plot the regression line\nplt.plot(df['Study'],df['fx'])\n\nplt.show()",
      "execution_count": null,
      "outputs": []
    },
    {
      "metadata": {},
      "cell_type": "markdown",
      "source": "In this case, the line fits the middle values fairly well, but is less accurate for the outlier at the low end. This is often the case, which is why statisticians and data scientists often *treat* outliers by removing them or applying a threshold value; though in this example there are too few data points to conclude that the data points are really outliers.\n\nLet's look at a slightly larger dataset and apply the same approach to compare *Grade* and *Salary*:"
    },
    {
      "metadata": {
        "trusted": false
      },
      "cell_type": "code",
      "source": "%matplotlib inline\nimport pandas as pd\nimport numpy as np\nfrom matplotlib import pyplot as plt\n\ndf = pd.DataFrame({'Name': ['Dan', 'Joann', 'Pedro', 'Rosie', 'Ethan', 'Vicky', 'Frederic', 'Jimmie', 'Rhonda', 'Giovanni', 'Francesca', 'Rajab', 'Naiyana', 'Kian', 'Jenny'],\n                   'Salary':[50000,54000,50000,189000,55000,40000,59000,42000,47000,78000,119000,95000,49000,29000,130000],\n                   'Hours':[41,40,36,17,35,39,40,45,41,35,30,33,38,47,24],\n                   'Grade':[50,50,46,95,50,5,57,42,26,72,78,60,40,17,85]})\n\n# Calculate least squares regression line\ndf['x2'] = df['Grade']**2\ndf['xy'] = df['Grade'] * df['Salary']\nx = df['Grade'].sum()\ny = df['Salary'].sum()\nx2 = df['x2'].sum()\nxy = df['xy'].sum()\nn = df['Grade'].count()\nm = ((n*xy) - (x*y))/((n*x2)-(x**2))\nb = (y - (m*x))/n\ndf['fx'] = (m*df['Grade']) + b\ndf['error'] = df['fx'] - df['Salary']\n\nprint('slope: ' + str(m))\nprint('y-intercept: ' + str(b))\n\n# Create a scatter plot of Grade vs Salary\ndf.plot(kind='scatter', title='Grade vs Salary Regression', x='Grade', y='Salary', color='red')\n\n# Plot the regression line\nplt.plot(df['Grade'],df['fx'])\n\nplt.show()\n\n# Show the original x,y values, the f(x) value, and the error\ndf[['Grade', 'Salary', 'fx', 'error']]",
      "execution_count": null,
      "outputs": []
    },
    {
      "metadata": {},
      "cell_type": "markdown",
      "source": "In this case, we used Python expressions to calculate the *slope* and *y-intercept* using the same approach and formula as before. In practice, Python provides great support for statistical operations like this; and you can use the ***linregress*** function in the *scipy.stats* package to retrieve the *slope* and *y-intercept* (as well as the *correlation*, *p-value*, and *standard error*) for a matched array of *x* and *y* values (we'll discuss *p-values* later!).\n\nHere's the Python code to calculate the regression line variables using the ***linregress*** function:"
    },
    {
      "metadata": {
        "trusted": false
      },
      "cell_type": "code",
      "source": "%matplotlib inline\nimport pandas as pd\nimport numpy as np\nfrom matplotlib import pyplot as plt\nfrom scipy import stats\n\ndf = pd.DataFrame({'Name': ['Dan', 'Joann', 'Pedro', 'Rosie', 'Ethan', 'Vicky', 'Frederic', 'Jimmie', 'Rhonda', 'Giovanni', 'Francesca', 'Rajab', 'Naiyana', 'Kian', 'Jenny'],\n                   'Salary':[50000,54000,50000,189000,55000,40000,59000,42000,47000,78000,119000,95000,49000,29000,130000],\n                   'Hours':[41,40,36,17,35,39,40,45,41,35,30,33,38,47,24],\n                   'Grade':[50,50,46,95,50,5,57,42,26,72,78,60,40,17,85]})\n\n# Get the regression line slope and intercept\nm, b, r, p, se = stats.linregress(df['Grade'], df['Salary'])\n\ndf['fx'] = (m*df['Grade']) + b\ndf['error'] = df['fx'] - df['Salary']\n\nprint('slope: ' + str(m))\nprint('y-intercept: ' + str(b))\n\n# Create a scatter plot of Grade vs Salary\ndf.plot(kind='scatter', title='Grade vs Salary Regression', x='Grade', y='Salary', color='red')\n\n# Plot the regression line\nplt.plot(df['Grade'],df['fx'])\n\nplt.show()\n\n# Show the original x,y values, the f(x) value, and the error\ndf[['Grade', 'Salary', 'fx', 'error']]\n",
      "execution_count": null,
      "outputs": []
    },
    {
      "metadata": {},
      "cell_type": "markdown",
      "source": "Note that the *slope* and *y-intercept* values are the same as when we worked them out using the formula.\n\nSimilarly to the simple study hours example, the regression line doesn't fit the outliers very well. In this case, the extremes include a student who scored only 5, and a student who scored 95. Let's see what happens if we remove these students from our sample:"
    },
    {
      "metadata": {
        "trusted": false
      },
      "cell_type": "code",
      "source": "%matplotlib inline\nimport pandas as pd\nimport numpy as np\nfrom matplotlib import pyplot as plt\nfrom scipy import stats\n\ndf = pd.DataFrame({'Name': ['Dan', 'Joann', 'Pedro', 'Rosie', 'Ethan', 'Vicky', 'Frederic', 'Jimmie', 'Rhonda', 'Giovanni', 'Francesca', 'Rajab', 'Naiyana', 'Kian', 'Jenny'],\n                   'Salary':[50000,54000,50000,189000,55000,40000,59000,42000,47000,78000,119000,95000,49000,29000,130000],\n                   'Hours':[41,40,36,17,35,39,40,45,41,35,30,33,38,47,24],\n                   'Grade':[50,50,46,95,50,5,57,42,26,72,78,60,40,17,85]})\n\ndf = df[(df['Grade'] > 5) & (df['Grade'] < 95)]\n\n# Get the regression line slope and intercept\nm, b, r, p, se = stats.linregress(df['Grade'], df['Salary'])\n\ndf['fx'] = (m*df['Grade']) + b\ndf['error'] = df['fx'] - df['Salary']\n\nprint('slope: ' + str(m))\nprint('y-intercept: ' + str(b))\n\n# Create a scatter plot of Grade vs Salary\ndf.plot(kind='scatter', title='Grade vs Salary Regression', x='Grade', y='Salary', color='red')\n\n# Plot the regression line\nplt.plot(df['Grade'],df['fx'])\n\nplt.show()\n\n# Show the original x,y values, the f(x) value, and the error\ndf[['Grade', 'Salary', 'fx', 'error']]\n",
      "execution_count": null,
      "outputs": []
    },
    {
      "metadata": {},
      "cell_type": "markdown",
      "source": "With the outliers removed, the line is a slightly better overall fit to the data.\n\nOne of the neat things about regression is that it gives us a formula and some constant values that we can use to estimate a *y* value for any *x* value. We just need to apply the linear function using the *slope* and *y-intercept* values we've calculated from our sample data. For example, suppose a student named Fabio graduates from our school with a final grade of **62**. We can use our linear function with the *slope* and *y-intercept* values we calculated with Python to estimate what salary he can expect to earn:\n\n\\begin{equation}f(x) = (1424.50\\times62) - 7822.24 \\approx 80,497 \\end{equation}\n"
    }
  ],
  "metadata": {
    "kernelspec": {
      "name": "python36",
      "display_name": "Python 3.6",
      "language": "python"
    },
    "language_info": {
      "mimetype": "text/x-python",
      "nbconvert_exporter": "python",
      "name": "python",
      "pygments_lexer": "ipython3",
      "version": "3.6.6",
      "file_extension": ".py",
      "codemirror_mode": {
        "version": 3,
        "name": "ipython"
      }
    }
  },
  "nbformat": 4,
  "nbformat_minor": 2
}